{
 "cells": [
  {
   "cell_type": "code",
   "execution_count": 1,
   "metadata": {},
   "outputs": [],
   "source": [
    "import pandas as pd\n",
    "import math\n",
    "import numpy as np\n",
    "from scipy.sparse import csr_matrix,lil_matrix\n"
   ]
  },
  {
   "cell_type": "code",
   "execution_count": 2,
   "metadata": {},
   "outputs": [],
   "source": [
    "\n",
    "table = pd.read_excel('poem.xlsx')\n",
    "word_list_df = pd.read_excel('wordlist.xlsx')"
   ]
  },
  {
   "cell_type": "code",
   "execution_count": null,
   "metadata": {},
   "outputs": [],
   "source": []
  },
  {
   "cell_type": "code",
   "execution_count": 3,
   "metadata": {},
   "outputs": [
    {
     "name": "stdout",
     "output_type": "stream",
     "text": [
      "3\n"
     ]
    }
   ],
   "source": [
    "# 计算wordlist中词语的最大长度max_length\n",
    "# TODO\n",
    "n=word_list_df.shape[0]\n",
    "max_length=0\n",
    "for i in range(n):\n",
    "    tmp_l=len(word_list_df.loc[i].word)\n",
    "    if tmp_l>max_length:\n",
    "        max_length=tmp_l\n",
    "print(max_length)"
   ]
  },
  {
   "cell_type": "code",
   "execution_count": 4,
   "metadata": {},
   "outputs": [],
   "source": [
    "word_list_set=set(word_list_df.word)"
   ]
  },
  {
   "cell_type": "code",
   "execution_count": 5,
   "metadata": {},
   "outputs": [],
   "source": [
    "# 实现前向最大匹配分词算法\n",
    "# string: 待分词的串\n",
    "# word_list: 词表\n",
    "# max_length: 词表中词语的最大长度\n",
    "  \n",
    "def cut(string, word_list, max_length):\n",
    "    # TODO\n",
    "    words = []\n",
    "    segStr = string\n",
    "    segStrLen = len(segStr)\n",
    "\n",
    "    while segStrLen > 0:\n",
    "        if segStrLen > max_length:\n",
    "            wordLen = max_length\n",
    "        else:\n",
    "            wordLen = segStrLen\n",
    "        subStr = segStr[0:wordLen]\n",
    "        while wordLen > 1:\n",
    "            if subStr in word_list:\n",
    "                break\n",
    "            else:\n",
    "                wordLen = wordLen - 1\n",
    "                subStr = subStr[0:wordLen]\n",
    "        words.append(subStr)\n",
    "        segStr = segStr[wordLen:]\n",
    "        segStrLen = segStrLen - wordLen\n",
    "#     for word in words:\n",
    "#         print(\"word: \", word)\n",
    "    return words\n"
   ]
  },
  {
   "cell_type": "code",
   "execution_count": 6,
   "metadata": {},
   "outputs": [],
   "source": [
    "# 执行分词（可能需要等待几分钟）\n",
    "table['words'] = table['content'].apply(lambda x: ' '.join(cut(x, word_list_set, max_length)))\n",
    "# table"
   ]
  },
  {
   "cell_type": "code",
   "execution_count": 7,
   "metadata": {},
   "outputs": [],
   "source": [
    "# 按照空格分开，stack\n",
    "split_words = table['words'].str.split(' ', expand=True).stack().rename('word').reset_index()\n",
    "new_data = pd.merge(table['Poem_id'], split_words, left_index=True, right_on='level_0')\n",
    "# new_data.head(20)"
   ]
  },
  {
   "cell_type": "code",
   "execution_count": 8,
   "metadata": {},
   "outputs": [],
   "source": [
    "poem_cnt=len(set(table.Poem_id))"
   ]
  },
  {
   "cell_type": "code",
   "execution_count": 9,
   "metadata": {},
   "outputs": [],
   "source": [
    "cnts_all=new_data.groupby('word').count().Poem_id\n",
    "cnts_all=cnts_all[33:20114]"
   ]
  },
  {
   "cell_type": "code",
   "execution_count": 10,
   "metadata": {},
   "outputs": [],
   "source": [
    "word_list=[]\n",
    "for s in cnts_all.index:\n",
    "    word_list.append(s)##创建新的list"
   ]
  },
  {
   "cell_type": "code",
   "execution_count": 11,
   "metadata": {},
   "outputs": [],
   "source": [
    "# word_list\n",
    "# tf.sum(axis=1)"
   ]
  },
  {
   "cell_type": "code",
   "execution_count": 12,
   "metadata": {},
   "outputs": [],
   "source": [
    "h=len(word_list)"
   ]
  },
  {
   "cell_type": "code",
   "execution_count": 13,
   "metadata": {},
   "outputs": [],
   "source": [
    "groups=new_data.groupby(['Poem_id','word']).count()"
   ]
  },
  {
   "cell_type": "code",
   "execution_count": 14,
   "metadata": {},
   "outputs": [],
   "source": [
    "poem_id_list=set()\n",
    "for k1,k2 in groups.index:\n",
    "    poem_id_list.add(k1)"
   ]
  },
  {
   "cell_type": "code",
   "execution_count": 15,
   "metadata": {},
   "outputs": [],
   "source": [
    "poem_id_list=list(poem_id_list)\n",
    "poem_id_list.sort()\n",
    "w=len(poem_id_list)"
   ]
  },
  {
   "cell_type": "code",
   "execution_count": 16,
   "metadata": {},
   "outputs": [],
   "source": [
    "tf=np.zeros((h,w))\n"
   ]
  },
  {
   "cell_type": "code",
   "execution_count": 17,
   "metadata": {},
   "outputs": [],
   "source": [
    "word2pos=dict()\n",
    "for i in range(h):\n",
    "    word2pos[word_list[i]]=i\n",
    "poem_id2pos=dict()\n",
    "for i in range(w):\n",
    "    poem_id2pos[poem_id_list[i]]=i"
   ]
  },
  {
   "cell_type": "code",
   "execution_count": 18,
   "metadata": {},
   "outputs": [],
   "source": [
    "new_word_list=set(word_list)\n",
    "for k1,k2 in groups.index:\n",
    "    if k2 in new_word_list:\n",
    "        n=groups.loc[(k1,k2)].level_0\n",
    "        tf[word2pos[k2],poem_id2pos[k1]]=n\n",
    "#         if n>1:print(k1,k2,n)"
   ]
  },
  {
   "cell_type": "code",
   "execution_count": 21,
   "metadata": {},
   "outputs": [],
   "source": [
    "# np.save(\"word2pos.npy\",word2pos)"
   ]
  },
  {
   "cell_type": "code",
   "execution_count": 23,
   "metadata": {},
   "outputs": [],
   "source": [
    "# np.save(\"poem_id2pos.npy\",poem_id2pos)"
   ]
  },
  {
   "cell_type": "code",
   "execution_count": 24,
   "metadata": {},
   "outputs": [],
   "source": [
    "# np.save(\"tf_w2f.npy\",tf)"
   ]
  },
  {
   "cell_type": "code",
   "execution_count": 19,
   "metadata": {},
   "outputs": [],
   "source": [
    "# word2pos['阿']"
   ]
  },
  {
   "cell_type": "code",
   "execution_count": 19,
   "metadata": {},
   "outputs": [],
   "source": [
    "cnt_more_10=[]\n",
    "for i in range(h):\n",
    "    if cnts_all[i]>10:\n",
    "        cnt_more_10.append(i)"
   ]
  },
  {
   "cell_type": "code",
   "execution_count": 55,
   "metadata": {},
   "outputs": [
    {
     "data": {
      "text/plain": [
       "2762"
      ]
     },
     "execution_count": 55,
     "metadata": {},
     "output_type": "execute_result"
    }
   ],
   "source": [
    "# len(cnt_more_10)"
   ]
  },
  {
   "cell_type": "code",
   "execution_count": 25,
   "metadata": {},
   "outputs": [],
   "source": [
    "# np.save(\"cnt_more_10.npy\",cnt_more_10)"
   ]
  },
  {
   "cell_type": "code",
   "execution_count": 20,
   "metadata": {},
   "outputs": [],
   "source": [
    "A=tf.copy()"
   ]
  },
  {
   "cell_type": "code",
   "execution_count": null,
   "metadata": {},
   "outputs": [],
   "source": []
  },
  {
   "cell_type": "code",
   "execution_count": 21,
   "metadata": {},
   "outputs": [],
   "source": [
    "A = np.where(A > 0, 1, 0)"
   ]
  },
  {
   "cell_type": "code",
   "execution_count": 22,
   "metadata": {},
   "outputs": [],
   "source": [
    "tf_words=csr_matrix(A).dot(csr_matrix(tf.T))\n",
    "tf_words=lil_matrix(tf_words)\n",
    "tf_words.setdiag(0)\n",
    "tf_words=csr_matrix(tf_words)\n",
    "tf_words_dense=tf_words.todense()\n"
   ]
  },
  {
   "cell_type": "code",
   "execution_count": 23,
   "metadata": {},
   "outputs": [],
   "source": [
    "# tf_words_dense[0].sum()"
   ]
  },
  {
   "cell_type": "code",
   "execution_count": 24,
   "metadata": {},
   "outputs": [],
   "source": [
    "\n",
    "B=tf_words_dense.copy()\n",
    "B1=np.where(B>0,1,0)\n",
    "\n"
   ]
  },
  {
   "cell_type": "code",
   "execution_count": 25,
   "metadata": {},
   "outputs": [],
   "source": [
    "df_word=B1.sum(axis=0)"
   ]
  },
  {
   "cell_type": "code",
   "execution_count": 26,
   "metadata": {},
   "outputs": [],
   "source": [
    "sum_of_word=len(word_list)\n",
    "idf_word=[]\n",
    "for i in df_word:\n",
    "    idf_word.append(math.log(sum_of_word/i,2))"
   ]
  },
  {
   "cell_type": "code",
   "execution_count": 27,
   "metadata": {},
   "outputs": [
    {
     "data": {
      "text/plain": [
       "list"
      ]
     },
     "execution_count": 27,
     "metadata": {},
     "output_type": "execute_result"
    }
   ],
   "source": [
    "type(idf_word)"
   ]
  },
  {
   "cell_type": "code",
   "execution_count": 28,
   "metadata": {},
   "outputs": [],
   "source": [
    "tf_idf_word=tf_words.multiply(csr_matrix(np.array(idf_word).reshape(-1,1)))"
   ]
  },
  {
   "cell_type": "code",
   "execution_count": 29,
   "metadata": {},
   "outputs": [
    {
     "data": {
      "text/plain": [
       "<20081x20081 sparse matrix of type '<class 'numpy.float64'>'\n",
       "\twith 3225304 stored elements in Compressed Sparse Row format>"
      ]
     },
     "execution_count": 29,
     "metadata": {},
     "output_type": "execute_result"
    }
   ],
   "source": [
    "# tf_idf_word"
   ]
  },
  {
   "cell_type": "code",
   "execution_count": 31,
   "metadata": {},
   "outputs": [],
   "source": [
    "# from scipy import sparse\n",
    "# sparse.save_npz('./tfidf_w2w.npz', tf_idf_word)"
   ]
  },
  {
   "cell_type": "code",
   "execution_count": 30,
   "metadata": {},
   "outputs": [],
   "source": [
    "# tf_idf_word.toarray()"
   ]
  },
  {
   "cell_type": "code",
   "execution_count": 31,
   "metadata": {},
   "outputs": [],
   "source": [
    "norm_tf_idf_word=tf_idf_word/np.sqrt(((tf_idf_word.multiply(tf_idf_word)).sum(axis=1)))"
   ]
  },
  {
   "cell_type": "code",
   "execution_count": 32,
   "metadata": {},
   "outputs": [],
   "source": [
    "csr=csr_matrix(norm_tf_idf_word)\n",
    "csrt=csr_matrix(norm_tf_idf_word.T)"
   ]
  },
  {
   "cell_type": "code",
   "execution_count": 33,
   "metadata": {},
   "outputs": [],
   "source": [
    "sim=csr.dot(csrt)\n"
   ]
  },
  {
   "cell_type": "code",
   "execution_count": 34,
   "metadata": {},
   "outputs": [],
   "source": [
    "sim_mat=sim[cnt_more_10]\n",
    "sim_mat=sim_mat[:,cnt_more_10]"
   ]
  },
  {
   "cell_type": "code",
   "execution_count": 35,
   "metadata": {},
   "outputs": [],
   "source": [
    "# sim_mat.toarray()"
   ]
  },
  {
   "cell_type": "code",
   "execution_count": 36,
   "metadata": {},
   "outputs": [],
   "source": [
    "# sim_mat"
   ]
  },
  {
   "cell_type": "code",
   "execution_count": 37,
   "metadata": {},
   "outputs": [],
   "source": [
    "# from scipy import sparse\n",
    "\n",
    "\n",
    "# sparse.save_npz('./simmat.npz', sim_mat)  #保存\n",
    "\n",
    "# csr_matrix_variable = sparse.load_npz('simmat.npz') #读"
   ]
  },
  {
   "cell_type": "code",
   "execution_count": 49,
   "metadata": {},
   "outputs": [],
   "source": [
    "mat=sim_mat.toarray()"
   ]
  },
  {
   "cell_type": "code",
   "execution_count": 43,
   "metadata": {},
   "outputs": [],
   "source": [
    "x_arr,y_arr=csr_matrix(sim_mat).nonzero()"
   ]
  },
  {
   "cell_type": "code",
   "execution_count": 44,
   "metadata": {},
   "outputs": [
    {
     "data": {
      "text/plain": [
       "7628644"
      ]
     },
     "execution_count": 44,
     "metadata": {},
     "output_type": "execute_result"
    }
   ],
   "source": [
    "len(x_arr)"
   ]
  },
  {
   "cell_type": "code",
   "execution_count": 74,
   "metadata": {},
   "outputs": [],
   "source": [
    "# x_arr,y_arr=csr_matrix(sim_mat).nonzero()\n",
    "new_res={}\n",
    "line=0\n",
    "tempdic={}\n",
    "for k in range(len(x_arr)):\n",
    "    x=x_arr[k]\n",
    "    y=y_arr[k]\n",
    "    while line!=x:\n",
    "        new_res[word_list[cnt_more_10[line]]]=sorted(tempdic.items(), key=lambda x: x[1], reverse = True)\n",
    "        tempdic={}\n",
    "        line+=1\n",
    "    if mat[x,y]>0.7:\n",
    "        tempdic[word_list[cnt_more_10[y]]]=mat[x,y]\n",
    "new_res[word_list[cnt_more_10[line]]]=sorted(tempdic.items(), key=lambda x: x[1], reverse = True)"
   ]
  },
  {
   "cell_type": "code",
   "execution_count": 78,
   "metadata": {},
   "outputs": [],
   "source": [
    "# np.save('sim_char.npy', new_res)"
   ]
  },
  {
   "cell_type": "code",
   "execution_count": 3,
   "metadata": {},
   "outputs": [],
   "source": [
    "test=np.load('sim_char.npy',allow_pickle=True).item()"
   ]
  },
  {
   "cell_type": "code",
   "execution_count": 6,
   "metadata": {},
   "outputs": [
    {
     "data": {
      "text/plain": [
       "[('夜', 0.9999999999999643),\n",
       " ('盡', 0.8668940590349343),\n",
       " ('時', 0.8662877368918978),\n",
       " ('一', 0.8621513419338535),\n",
       " ('水', 0.8618186876373181),\n",
       " ('滿', 0.8593335241520279),\n",
       " ('在', 0.8576614533664821),\n",
       " ('風', 0.8575251199202591),\n",
       " ('向', 0.8558281413425892),\n",
       " ('秋', 0.8547383689927114),\n",
       " ('入', 0.8533960053887519),\n",
       " ('中', 0.8524443854322683),\n",
       " ('月', 0.8520027888439605),\n",
       " ('卻', 0.8504914404707239),\n",
       " ('下', 0.8502037894142019),\n",
       " ('到', 0.850167787741081),\n",
       " ('上', 0.8484074007882799),\n",
       " ('去', 0.8468873318668371),\n",
       " ('自', 0.8468689091139934),\n",
       " ('花', 0.8467150089586207),\n",
       " ('人', 0.8429092267488769),\n",
       " ('是', 0.8421192336745585),\n",
       " ('似', 0.8408174531449445),\n",
       " ('雲', 0.8403406394109729),\n",
       " ('來', 0.8402011068555129),\n",
       " ('過', 0.8385203958913439),\n",
       " ('樹', 0.8384552828065011),\n",
       " ('落', 0.837801830901409),\n",
       " ('聲', 0.836966938324714),\n",
       " ('更', 0.8359349114714061),\n",
       " ('得', 0.8354827928425751),\n",
       " ('新', 0.8353596381520325),\n",
       " ('日', 0.8350312267674215),\n",
       " ('空', 0.8347583440833211),\n",
       " ('看', 0.8343118440061391),\n",
       " ('猶', 0.8317292276183897),\n",
       " ('長', 0.8316756159723221),\n",
       " ('愁', 0.8300690408373091),\n",
       " ('天', 0.8295877670897651),\n",
       " ('後', 0.8291165926304557),\n",
       " ('山', 0.8289164704187442),\n",
       " ('未', 0.8275634126022873),\n",
       " ('不知', 0.8272817507085762),\n",
       " ('寒', 0.8269883442098864),\n",
       " ('別', 0.8266692227479588),\n",
       " ('半', 0.8262950587699889),\n",
       " ('作', 0.8256992461306881),\n",
       " ('前', 0.8252886473375782),\n",
       " ('晚', 0.825182595239082),\n",
       " ('望', 0.8247411207750389),\n",
       " ('頭', 0.8231394777696016),\n",
       " ('宿', 0.8226143864673757),\n",
       " ('西', 0.8223925572920133),\n",
       " ('春', 0.8220591387299658),\n",
       " ('聞', 0.8219396119085769),\n",
       " ('閒', 0.8216995254306915),\n",
       " ('還', 0.8215985456829694),\n",
       " ('有', 0.8209318816138836),\n",
       " ('寄', 0.8198672582417098),\n",
       " ('雨', 0.8184056107993131),\n",
       " ('處', 0.81829792764206),\n",
       " ('歸', 0.8180042801758836),\n",
       " ('出', 0.8178017436053259),\n",
       " ('不', 0.8167080924819303),\n",
       " ('欲', 0.8159814250755302),\n",
       " ('路', 0.8157601764271173),\n",
       " ('意', 0.815479895687825),\n",
       " ('兩', 0.8152876708849475),\n",
       " ('雪', 0.8144780949308573),\n",
       " ('生', 0.8137313505006851),\n",
       " ('多', 0.8123417205110282),\n",
       " ('煙', 0.8118001974460354),\n",
       " ('遠', 0.8116674830225687),\n",
       " ('何處', 0.8113749428816637),\n",
       " ('與', 0.8106771665335085),\n",
       " ('好', 0.8098903423573222),\n",
       " ('碧', 0.8097380678352957),\n",
       " ('邊', 0.8092008331516057),\n",
       " ('事', 0.8087834972831756),\n",
       " ('明', 0.8087147777391474),\n",
       " ('紅', 0.8083450740547379),\n",
       " ('高', 0.8073452006690585),\n",
       " ('見', 0.8073177513036017),\n",
       " ('客', 0.8069475637547663),\n",
       " ('曉', 0.8064440580149417),\n",
       " ('心', 0.8053593206144165),\n",
       " ('近', 0.804001325851616),\n",
       " ('贈', 0.8037253883225588),\n",
       " ('共', 0.8034111105395754),\n",
       " ('聽', 0.8031452046881736),\n",
       " ('初', 0.8029628532054827),\n",
       " ('送', 0.8028818997253426),\n",
       " ('憶', 0.8019182374751005),\n",
       " ('應', 0.8015120495224264),\n",
       " ('將', 0.8001096910835448),\n",
       " ('獨', 0.7999344209745466),\n",
       " ('莫', 0.7997547917853438),\n",
       " ('家', 0.7994078854872421),\n",
       " ('夢', 0.7985099373596202),\n",
       " ('酒', 0.7979321171556432),\n",
       " ('冷', 0.7978248625658878),\n",
       " ('已', 0.7960400433345187),\n",
       " ('香', 0.7958131379079557),\n",
       " ('樓', 0.7946768712462191),\n",
       " ('清', 0.7937833869784399),\n",
       " ('如', 0.7921319045942516),\n",
       " ('此', 0.7921200196079523),\n",
       " ('為', 0.7915491731544161),\n",
       " ('思', 0.7914696665606817),\n",
       " ('李', 0.7914053760100311),\n",
       " ('同', 0.7913048378281637),\n",
       " ('知', 0.7899731854213825),\n",
       " ('照', 0.789740512508533),\n",
       " ('又', 0.7890821851095231),\n",
       " ('東', 0.7886719490081366),\n",
       " ('色', 0.7884976232866769),\n",
       " ('君', 0.7883148109740983),\n",
       " ('飛', 0.787605809476733),\n",
       " ('竹', 0.7875843697042084),\n",
       " ('曲', 0.786440225084712),\n",
       " ('先', 0.7863392029195706),\n",
       " ('暗', 0.7855353935469365),\n",
       " ('誰', 0.7853521914601166),\n",
       " ('散', 0.7852038863300842),\n",
       " ('草', 0.7846971886713751),\n",
       " ('南', 0.7837447227119366),\n",
       " ('道', 0.7828437859115407),\n",
       " ('開', 0.7824773615834896),\n",
       " ('今日', 0.7822083623011251),\n",
       " ('迴', 0.7821518220600985),\n",
       " ('靜', 0.78177632803004),\n",
       " ('枝', 0.7817149223417318),\n",
       " ('正', 0.7808174321790944),\n",
       " ('少', 0.7807518423862707),\n",
       " ('葉', 0.7803469019266607),\n",
       " ('歌', 0.7798036743745536),\n",
       " ('春風', 0.7786266895919852),\n",
       " ('年', 0.7786190943591025),\n",
       " ('林', 0.7783674347793486),\n",
       " ('坐', 0.7782255653918345),\n",
       " ('綠', 0.7771088498666775),\n",
       " ('著', 0.7768924788715167),\n",
       " ('遊', 0.7768075734640743),\n",
       " ('唯有', 0.77673952782135),\n",
       " ('醉', 0.775840757209476),\n",
       " ('涼', 0.7757363087861618),\n",
       " ('愛', 0.7747787442540491),\n",
       " ('舊', 0.7747128030361204),\n",
       " ('斜', 0.7744343014304301),\n",
       " ('地', 0.7719996350143378),\n",
       " ('連', 0.7715561365574863),\n",
       " ('張', 0.7709683242951211),\n",
       " ('亭', 0.7690073984048285),\n",
       " ('影', 0.7688274940546432),\n",
       " ('對', 0.7687431670532177),\n",
       " ('書', 0.7675196958627852),\n",
       " ('流', 0.7672296533283398),\n",
       " ('重', 0.7669833498974876),\n",
       " ('露', 0.765325626871751),\n",
       " ('一作', 0.7648380711224521),\n",
       " ('寺', 0.7645572852106537),\n",
       " ('老', 0.7636121186415842),\n",
       " ('當', 0.7634501965043535),\n",
       " ('名', 0.762584794351943),\n",
       " ('輕', 0.76239001270937),\n",
       " ('無人', 0.7619046428524946),\n",
       " ('吹', 0.7614377354031063),\n",
       " ('復', 0.7609792696692117),\n",
       " ('留', 0.7609698370116247),\n",
       " ('深', 0.7607620874790183),\n",
       " ('光', 0.7607082587990526),\n",
       " ('情', 0.7595511732491653),\n",
       " ('州', 0.7590775867731345),\n",
       " ('逢', 0.7586835628844754),\n",
       " ('恨', 0.758366244299482),\n",
       " ('身', 0.7580744307242201),\n",
       " ('問', 0.7578892413651116),\n",
       " ('今夜', 0.7569866207224328),\n",
       " ('王', 0.7568693265018003),\n",
       " ('轉', 0.7563644610948193),\n",
       " ('青山', 0.7556902728486458),\n",
       " ('驚', 0.7554084884662342),\n",
       " ('成', 0.7539553938836887),\n",
       " ('馬', 0.7536785062974161),\n",
       " ('三', 0.7536642713434054),\n",
       " ('玉', 0.7535960017219451),\n",
       " ('唯', 0.753348352131248),\n",
       " ('破', 0.7526540856632457),\n",
       " ('殘', 0.7524439337765711),\n",
       " ('野', 0.7524053668775299),\n",
       " ('相', 0.7518569691781481),\n",
       " ('把', 0.7516117087197258),\n",
       " ('便', 0.7513476112104231),\n",
       " ('數', 0.751218871266035),\n",
       " ('古', 0.7509081596168061),\n",
       " ('移', 0.7502463642470728),\n",
       " ('杜牧', 0.7499995819204677),\n",
       " ('今', 0.7498079327706022),\n",
       " ('每', 0.7491440855348777),\n",
       " ('伴', 0.7488606628992945),\n",
       " ('石', 0.7485333218865104),\n",
       " ('城', 0.7484042280098988),\n",
       " ('惆悵', 0.7479742204109007),\n",
       " ('岸', 0.7475570228747896),\n",
       " ('隔', 0.7475329615583046),\n",
       " ('斷', 0.7471389789512488),\n",
       " ('青', 0.7466366827140228),\n",
       " ('映', 0.7465398236813254),\n",
       " ('不得', 0.7463164123482904),\n",
       " ('晴', 0.7462067593682675),\n",
       " ('白雲', 0.7447796238079443),\n",
       " ('柳', 0.7442155769033926),\n",
       " ('溪', 0.7435609630168579),\n",
       " ('黃', 0.7428364688218463),\n",
       " ('樂', 0.7427192939904224),\n",
       " ('夜深', 0.7425040749554612),\n",
       " ('堂', 0.7424490124659332),\n",
       " ('題', 0.7411177567792101),\n",
       " ('解', 0.7409197164553152),\n",
       " ('亂', 0.7404606709412874),\n",
       " ('分', 0.7401987349427336),\n",
       " ('劉', 0.7396081147123515),\n",
       " ('臺', 0.7392976751054438),\n",
       " ('人間', 0.7390989685734116),\n",
       " ('亦', 0.7389066780322069),\n",
       " ('笑', 0.7385009545308752),\n",
       " ('隨', 0.7383909235393329),\n",
       " ('住', 0.7379734205614239),\n",
       " ('里', 0.7371226708986287),\n",
       " ('我', 0.737087216015621),\n",
       " ('外', 0.7363205601045767),\n",
       " ('不見', 0.7350081710014335),\n",
       " ('尋', 0.7349009348778414),\n",
       " ('病', 0.7347345707393912),\n",
       " ('立', 0.734377255381734),\n",
       " ('少年', 0.7343604497774634),\n",
       " ('僧', 0.7343541015980833),\n",
       " ('無', 0.7340313154862582),\n",
       " ('長安', 0.7337894352201746),\n",
       " ('酬', 0.733230196773593),\n",
       " ('苦', 0.7330839407649595),\n",
       " ('池', 0.7329716348557738),\n",
       " ('一夜', 0.7322394948135131),\n",
       " ('詠', 0.7321442478675253),\n",
       " ('度', 0.7321001262911954),\n",
       " ('遲', 0.7319987098138114),\n",
       " ('啼', 0.7319809964954995),\n",
       " ('雖', 0.7316446674362979),\n",
       " ('逐', 0.7314268403317878),\n",
       " ('因', 0.731272309378241),\n",
       " ('即', 0.7311937234236472),\n",
       " ('幾', 0.7310384680871542),\n",
       " ('祗', 0.7303100428916814),\n",
       " ('動', 0.7295592280669503),\n",
       " ('子', 0.7287617330655116),\n",
       " ('崔', 0.7287603602104962),\n",
       " ('爭', 0.7282639005550797),\n",
       " ('懷', 0.7280227254564188),\n",
       " ('常', 0.7278715200225735),\n",
       " ('語', 0.7276762125557447),\n",
       " ('怨', 0.7275885999086229),\n",
       " ('吟', 0.7264705883480391),\n",
       " ('始', 0.7258655805260572),\n",
       " ('村', 0.7251204682965973),\n",
       " ('方', 0.7244689233549532),\n",
       " ('陰', 0.7241468595563101),\n",
       " ('經', 0.724018107924789),\n",
       " ('能', 0.7236721685871118),\n",
       " ('鳥', 0.7234586077343891),\n",
       " ('面', 0.7234308984883085),\n",
       " ('垂', 0.7233357065963095),\n",
       " ('松', 0.7230638226995321),\n",
       " ('江南', 0.7228993287066047),\n",
       " ('頻', 0.722670924579508),\n",
       " ('難', 0.7225486814258099),\n",
       " ('金', 0.7219758016497936),\n",
       " ('睡', 0.721885321778752),\n",
       " ('須', 0.7213891758136793),\n",
       " ('待', 0.7213738189660229),\n",
       " ('可', 0.7211250340856186),\n",
       " ('臨', 0.721079641472955),\n",
       " ('期', 0.7209411549349203),\n",
       " ('眠', 0.7206995639851119),\n",
       " ('絕', 0.7203736041156219),\n",
       " ('朝', 0.7198793241360458),\n",
       " ('二', 0.7197546264071796),\n",
       " ('何', 0.7195768386767516),\n",
       " ('楊', 0.7193745173896636),\n",
       " ('倚', 0.7188453481292805),\n",
       " ('悠悠', 0.7184898969272632),\n",
       " ('早', 0.7181247634295269),\n",
       " ('覺', 0.7180415227638252),\n",
       " ('船', 0.7178834887694984),\n",
       " ('衣', 0.7174806543070683),\n",
       " ('手', 0.7172041353802081),\n",
       " ('波', 0.7167068517085913),\n",
       " ('繞', 0.7163799632479462),\n",
       " ('畫', 0.7161503250817842),\n",
       " ('久', 0.7161057916560236),\n",
       " ('淚', 0.7153942333518912),\n",
       " ('髮', 0.7149415568405475),\n",
       " ('緣', 0.7146801826489125),\n",
       " ('盧', 0.7142387077817399),\n",
       " ('暮', 0.7140366619131362),\n",
       " ('年年', 0.7129296592107133),\n",
       " ('冰', 0.7121555246156293),\n",
       " ('傳', 0.7116025657364828),\n",
       " ('引', 0.7115392416369081),\n",
       " ('霜', 0.7114466215418717),\n",
       " ('萬', 0.7110208976789295),\n",
       " ('之', 0.7104923623459043),\n",
       " ('起', 0.709390384027873),\n",
       " ('峰', 0.7093505584966796),\n",
       " ('今朝', 0.7090200499567053),\n",
       " ('月明', 0.7081955620283661),\n",
       " ('平', 0.7080865667972462),\n",
       " ('飲', 0.7079341189333038),\n",
       " ('鶴', 0.7078670575882567),\n",
       " ('遶', 0.7075972947750753),\n",
       " ('偶', 0.7074629133954422),\n",
       " ('星', 0.7072379988959072),\n",
       " ('北', 0.706961558559305),\n",
       " ('驛', 0.7064870481678668),\n",
       " ('日暮', 0.7063119552853522),\n",
       " ('放', 0.7060748041998153),\n",
       " ('韓', 0.7060013325188578),\n",
       " ('最', 0.7055689832090126),\n",
       " ('九', 0.7055391221909514),\n",
       " ('纔', 0.7054407018433384),\n",
       " ('五', 0.7051388027057623),\n",
       " ('教', 0.704823853264496),\n",
       " ('間', 0.7046597787748506),\n",
       " ('使', 0.7045319638981181),\n",
       " ('遙', 0.7038340398381399),\n",
       " ('孤', 0.7036919897133178),\n",
       " ('若', 0.7036167649878698),\n",
       " ('明月', 0.7035723448300321),\n",
       " ('翠', 0.7034138300991309),\n",
       " ('故', 0.702949640700359),\n",
       " ('房', 0.7029429953841422),\n",
       " ('會', 0.7026683161346222),\n",
       " ('相思', 0.7025931507819798),\n",
       " ('何事', 0.7025737152790495),\n",
       " ('庭', 0.7023426981415097),\n",
       " ('寂寞', 0.7022730444682527),\n",
       " ('主人', 0.7021507308728008),\n",
       " ('悲', 0.7021283505083006),\n",
       " ('帶', 0.7016911603464957),\n",
       " ('登', 0.700555993270163),\n",
       " ('沙', 0.7001819023922791),\n",
       " ('鳴', 0.7000763479817603)]"
      ]
     },
     "execution_count": 6,
     "metadata": {},
     "output_type": "execute_result"
    }
   ],
   "source": [
    "# test['夜']"
   ]
  },
  {
   "cell_type": "code",
   "execution_count": 38,
   "metadata": {},
   "outputs": [],
   "source": [
    "# mat=csr_matrix_variable.toarray()\n",
    "# x,y=np.where(mat>0.00001)\n",
    "# len(x)"
   ]
  },
  {
   "cell_type": "code",
   "execution_count": 39,
   "metadata": {},
   "outputs": [],
   "source": [
    "# sum_of_word"
   ]
  },
  {
   "cell_type": "code",
   "execution_count": 40,
   "metadata": {},
   "outputs": [],
   "source": [
    "# sim_dense=sim.todense()\n",
    "# sim_dense=sim_dense[cnt_more_10]\n",
    "# sim_dense=sim_dense[:,cnt_more_10]"
   ]
  }
 ],
 "metadata": {
  "kernelspec": {
   "display_name": "Python 3 (ipykernel)",
   "language": "python",
   "name": "python3"
  },
  "language_info": {
   "codemirror_mode": {
    "name": "ipython",
    "version": 3
   },
   "file_extension": ".py",
   "mimetype": "text/x-python",
   "name": "python",
   "nbconvert_exporter": "python",
   "pygments_lexer": "ipython3",
   "version": "3.9.7"
  }
 },
 "nbformat": 4,
 "nbformat_minor": 4
}
